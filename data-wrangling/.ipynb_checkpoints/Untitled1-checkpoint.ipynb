{
 "cells": [
  {
   "cell_type": "code",
   "execution_count": 1,
   "metadata": {
    "collapsed": true
   },
   "outputs": [],
   "source": [
    "from math import sqrt\n",
    "from random import sample\n",
    " \n",
    "# Rename the built-in zip (http://docs.python.org/3/library/functions.html#zip)\n",
    "_zip = zip"
   ]
  },
  {
   "cell_type": "code",
   "execution_count": 2,
   "metadata": {
    "collapsed": true
   },
   "outputs": [],
   "source": [
    "def zip(*sequences):\n",
    "    \"\"\"Returns a list of lists, where the i-th list contains the i-th\n",
    "    element from each of the argument sequences.\n",
    " \n",
    "    >>> zip(range(0, 3), range(3, 6))\n",
    "    [[0, 3], [1, 4], [2, 5]]\n",
    "    >>> for a, b in zip([1, 2, 3], [4, 5, 6]):\n",
    "    ...     print(a, b)\n",
    "    1 4\n",
    "    2 5\n",
    "    3 6\n",
    "    >>> for triple in zip(['a', 'b', 'c'], [1, 2, 3], ['do', 're', 'mi']):\n",
    "    ...     print(triple)\n",
    "    ['a', 1, 'do']\n",
    "    ['b', 2, 're']\n",
    "    ['c', 3, 'mi']\n",
    "    \"\"\"\n",
    "    return list(map(list, _zip(*sequences)))"
   ]
  },
  {
   "cell_type": "code",
   "execution_count": 3,
   "metadata": {
    "collapsed": false
   },
   "outputs": [
    {
     "data": {
      "text/plain": [
       "[[1, 2], [2, 3], [3, 4]]"
      ]
     },
     "execution_count": 3,
     "metadata": {},
     "output_type": "execute_result"
    }
   ],
   "source": [
    "zip([1,2,3], [2,3,4])"
   ]
  },
  {
   "cell_type": "code",
   "execution_count": null,
   "metadata": {
    "collapsed": true
   },
   "outputs": [],
   "source": []
  }
 ],
 "metadata": {
  "kernelspec": {
   "display_name": "Python 2",
   "language": "python",
   "name": "python2"
  },
  "language_info": {
   "codemirror_mode": {
    "name": "ipython",
    "version": 2
   },
   "file_extension": ".py",
   "mimetype": "text/x-python",
   "name": "python",
   "nbconvert_exporter": "python",
   "pygments_lexer": "ipython2",
   "version": "2.7.10"
  }
 },
 "nbformat": 4,
 "nbformat_minor": 0
}
