{
 "cells": [
  {
   "cell_type": "code",
   "execution_count": 1,
   "metadata": {
    "collapsed": true
   },
   "outputs": [],
   "source": [
    "from math import sqrt\n",
    "from random import sample\n",
    " \n",
    "# Rename the built-in zip (http://docs.python.org/3/library/functions.html#zip)\n",
    "_zip = zip"
   ]
  },
  {
   "cell_type": "code",
   "execution_count": 3,
   "metadata": {
    "collapsed": true
   },
   "outputs": [],
   "source": [
    "def zip(*sequences):\n",
    "    \"\"\"Returns a list of lists, where the i-th list contains the i-th\n",
    "    element from each of the argument sequences.\n",
    " \n",
    "    >>> zip(range(0, 3), range(3, 6))\n",
    "    [[0, 3], [1, 4], [2, 5]]\n",
    "    >>> for a, b in zip([1, 2, 3], [4, 5, 6]):\n",
    "    ...     print(a, b)\n",
    "    1 4\n",
    "    2 5\n",
    "    3 6\n",
    "    >>> for triple in zip(['a', 'b', 'c'], [1, 2, 3], ['do', 're', 'mi']):\n",
    "    ...     print(triple)\n",
    "    ['a', 1, 'do']\n",
    "    ['b', 2, 're']\n",
    "    ['c', 3, 'mi']\n",
    "    \"\"\"\n",
    "    return list(map(list, _zip(*sequences)))"
   ]
  },
  {
   "cell_type": "code",
   "execution_count": 4,
   "metadata": {
    "collapsed": false
   },
   "outputs": [
    {
     "data": {
      "text/plain": [
       "[[1, 2], [2, 3], [3, 4]]"
      ]
     },
     "execution_count": 4,
     "metadata": {},
     "output_type": "execute_result"
    }
   ],
   "source": [
    "zip([1,2,3], [2,3,4])"
   ]
  },
  {
   "cell_type": "code",
   "execution_count": 5,
   "metadata": {
    "collapsed": false
   },
   "outputs": [],
   "source": [
    "def enumerate(s, start=0):\n",
    "    \"\"\"Returns a list of lists, where the i-th list contains i+start and the\n",
    "    i-th element of s.\n",
    " \n",
    "    >>> enumerate([6, 1, 'a'])\n",
    "    [[0, 6], [1, 1], [2, 'a']]\n",
    "    >>> enumerate('five', 5)\n",
    "    [[5, 'f'], [6, 'i'], [7, 'v'], [8, 'e']]\n",
    "    \"\"\"\n",
    "    # BEGIN Question 0\n",
    "    return zip(range(start,start+len(s)), s)\n",
    "    # END Question 0"
   ]
  },
  {
   "cell_type": "code",
   "execution_count": 6,
   "metadata": {
    "collapsed": false
   },
   "outputs": [
    {
     "data": {
      "text/plain": [
       "[[0, 6], [1, 1], [2, 'a']]"
      ]
     },
     "execution_count": 6,
     "metadata": {},
     "output_type": "execute_result"
    }
   ],
   "source": [
    "enumerate([6,1,'a'])"
   ]
  },
  {
   "cell_type": "code",
   "execution_count": 7,
   "metadata": {
    "collapsed": false
   },
   "outputs": [
    {
     "data": {
      "text/plain": [
       "[[5, 'f'], [6, 'i'], [7, 'v'], [8, 'e']]"
      ]
     },
     "execution_count": 7,
     "metadata": {},
     "output_type": "execute_result"
    }
   ],
   "source": [
    "enumerate('five', 5)"
   ]
  },
  {
   "cell_type": "code",
   "execution_count": 8,
   "metadata": {
    "collapsed": false
   },
   "outputs": [
    {
     "data": {
      "text/plain": [
       "2"
      ]
     },
     "execution_count": 8,
     "metadata": {},
     "output_type": "execute_result"
    }
   ],
   "source": [
    "d = {1:'z', 2:'w'}\n",
    "min(d, key=lambda x:d[x])"
   ]
  },
  {
   "cell_type": "code",
   "execution_count": 9,
   "metadata": {
    "collapsed": true
   },
   "outputs": [],
   "source": [
    "def map_and_filter(s, map_fn, filter_fn):\n",
    "    \"\"\"Return a new list containing the result of calling map_fn on each\n",
    "    element of sequence s for which filter_fn returns a true value.\n",
    " \n",
    "    >>> square = lambda x: x * x\n",
    "    >>> is_odd = lambda x: x % 2 == 1\n",
    "    >>> map_and_filter([1, 2, 3, 4, 5], square, is_odd)\n",
    "    [1, 9, 25]\n",
    "    \"\"\"\n",
    "    # BEGIN Question 0\n",
    "    \"*** REPLACE THIS LINE ***\"\n",
    "    return [map_fn for x in s if filter_fn]\n",
    "    # END Question 0"
   ]
  },
  {
   "cell_type": "code",
   "execution_count": 1,
   "metadata": {
    "collapsed": false
   },
   "outputs": [
    {
     "ename": "NameError",
     "evalue": "name 'map_and_filter' is not defined",
     "output_type": "error",
     "traceback": [
      "\u001b[0;31m---------------------------------------------------------------------------\u001b[0m",
      "\u001b[0;31mNameError\u001b[0m                                 Traceback (most recent call last)",
      "\u001b[0;32m<ipython-input-1-f404eb440876>\u001b[0m in \u001b[0;36m<module>\u001b[0;34m()\u001b[0m\n\u001b[1;32m      1\u001b[0m \u001b[0msquare\u001b[0m \u001b[0;34m=\u001b[0m \u001b[0;32mlambda\u001b[0m \u001b[0mx\u001b[0m\u001b[0;34m:\u001b[0m \u001b[0mx\u001b[0m \u001b[0;34m*\u001b[0m \u001b[0mx\u001b[0m\u001b[0;34m\u001b[0m\u001b[0m\n\u001b[1;32m      2\u001b[0m \u001b[0mis_odd\u001b[0m \u001b[0;34m=\u001b[0m \u001b[0;32mlambda\u001b[0m \u001b[0mx\u001b[0m\u001b[0;34m:\u001b[0m \u001b[0mx\u001b[0m \u001b[0;34m%\u001b[0m \u001b[0;36m2\u001b[0m \u001b[0;34m==\u001b[0m \u001b[0;36m1\u001b[0m\u001b[0;34m\u001b[0m\u001b[0m\n\u001b[0;32m----> 3\u001b[0;31m \u001b[0mlist\u001b[0m\u001b[0;34m(\u001b[0m\u001b[0mmap_and_filter\u001b[0m\u001b[0;34m(\u001b[0m\u001b[0;34m[\u001b[0m\u001b[0;36m1\u001b[0m\u001b[0;34m,\u001b[0m\u001b[0;36m2\u001b[0m\u001b[0;34m,\u001b[0m\u001b[0;36m3\u001b[0m\u001b[0;34m,\u001b[0m\u001b[0;36m4\u001b[0m\u001b[0;34m,\u001b[0m\u001b[0;36m5\u001b[0m\u001b[0;34m]\u001b[0m\u001b[0;34m,\u001b[0m \u001b[0msquare\u001b[0m\u001b[0;34m,\u001b[0m \u001b[0mis_odd\u001b[0m\u001b[0;34m)\u001b[0m\u001b[0;34m)\u001b[0m\u001b[0;34m\u001b[0m\u001b[0m\n\u001b[0m",
      "\u001b[0;31mNameError\u001b[0m: name 'map_and_filter' is not defined"
     ]
    }
   ],
   "source": [
    "square = lambda x: x * x\n",
    "is_odd = lambda x: x % 2 == 1\n",
    "list(map_and_filter([1,2,3,4,5], square, is_odd))"
   ]
  },
  {
   "cell_type": "code",
   "execution_count": 13,
   "metadata": {
    "collapsed": false
   },
   "outputs": [],
   "source": [
    "d['tacos'] = 'yes please'"
   ]
  },
  {
   "cell_type": "code",
   "execution_count": 13,
   "metadata": {
    "collapsed": false
   },
   "outputs": [
    {
     "data": {
      "text/plain": [
       "1"
      ]
     },
     "execution_count": 13,
     "metadata": {},
     "output_type": "execute_result"
    }
   ],
   "source": [
    "empty = 'empty'\n",
    "\n",
    "def is_link(s):\n",
    "    \"\"\"s is a linked list if it is empty or a (first, rest) pair.\"\"\"\n",
    "    return s == empty or (type(s) == list and len(s) == 2 and is_link(s[1]))\n",
    "\n",
    "def link(first, rest=empty):\n",
    "    \"\"\"Construct a linked list from its first element and the rest.\"\"\"\n",
    "    assert is_link(rest), 'rest must be a linked list.'\n",
    "    return [first, rest]\n",
    "\n",
    "def first(s):\n",
    "    \"\"\"Return the first element of a linked list s.\"\"\"\n",
    "    assert is_link(s), 'first only applies to linked lists.'\n",
    "    assert s != empty, 'empty linked list has no first element.'\n",
    "    return s[0]\n",
    "\n",
    "def rest(s):\n",
    "    \"\"\"Return the rest of the elements of a linked list s.\"\"\"\n",
    "    assert is_link(s), 'rest only applies to linked lists.'\n",
    "    assert s != empty, 'empty linked list has no rest.'\n",
    "    return s[1]\n",
    "\n",
    "def print_link(s):\n",
    "    \"\"\"Print elements of a linked list s.\n",
    "\n",
    "    >>> s = link(1, link(2, link(3, empty)))\n",
    "    >>> print_link(s)\n",
    "    1 2 3\n",
    "    \"\"\"\n",
    "    line = ''\n",
    "    while s != empty:\n",
    "        if line:\n",
    "            line += ' '\n",
    "        line += str(first(s))\n",
    "        s = rest(s)\n",
    "    print(line)\n",
    "\n",
    "lst1 = link(1, link(2, link(3, link(4))))\n",
    "first(lst1)"
   ]
  },
  {
   "cell_type": "code",
   "execution_count": 54,
   "metadata": {
    "collapsed": false
   },
   "outputs": [],
   "source": [
    "\n",
    "def is_sorted(lst):\n",
    "    \"\"\"Returns True if the linked list is sorted.\n",
    "\n",
    "    >>> lst1 = link(1, link(2, link(3, link(4))))\n",
    "    >>> is_sorted(lst1)\n",
    "    True\n",
    "    >>> lst2 = link(1, link(3, link(2, link(4, link(5)))))\n",
    "    >>> is_sorted(lst2)\n",
    "    False\n",
    "    >>> lst3 = link(3, link(3, link(3)))\n",
    "    >>> is_sorted(lst3)\n",
    "    True\n",
    "    \"\"\"\n",
    "    \"*** YOUR CODE HERE ***\"\n",
    "    if rest(lst) == empty:\n",
    "        return True\n",
    "    if is_sorted(rest(lst)) and first(lst) <= first(rest(lst)):\n",
    "        return True\n",
    "    else:\n",
    "        return False"
   ]
  },
  {
   "cell_type": "code",
   "execution_count": null,
   "metadata": {
    "collapsed": false
   },
   "outputs": [],
   "source": []
  },
  {
   "cell_type": "code",
   "execution_count": 56,
   "metadata": {
    "collapsed": false
   },
   "outputs": [
    {
     "data": {
      "text/plain": [
       "True"
      ]
     },
     "execution_count": 56,
     "metadata": {},
     "output_type": "execute_result"
    }
   ],
   "source": [
    "lst3 = link(3, link(3, link(3)))\n",
    "is_sorted(lst3)"
   ]
  },
  {
   "cell_type": "code",
   "execution_count": 66,
   "metadata": {
    "collapsed": true
   },
   "outputs": [],
   "source": [
    "def interleave(s0, s1):\n",
    "    \"\"\"Interleave linked lists s0 and s1 to produce a new linked\n",
    "    list.\n",
    "\n",
    "    >>> evens = link(2, link(4, link(6, link(8, empty))))\n",
    "    >>> odds = link(1, link(3, empty))\n",
    "    >>> print_link(interleave(odds, evens))\n",
    "    1 2 3 4 6 8\n",
    "    >>> print_link(interleave(evens, odds))\n",
    "    2 1 4 3 6 8\n",
    "    >>> print_link(interleave(odds, odds))\n",
    "    1 1 3 3\n",
    "    \"\"\"\n",
    "    \"*** YOUR CODE HERE ***\"\n",
    "    if s0 == empty:\n",
    "        return s1\n",
    "    if s1 == empty:\n",
    "        return s0\n",
    "    return link(first(s0), interleave(s1, rest(s0)))"
   ]
  },
  {
   "cell_type": "code",
   "execution_count": 69,
   "metadata": {
    "collapsed": false
   },
   "outputs": [
    {
     "name": "stdout",
     "output_type": "stream",
     "text": [
      "2 1 4 3 6 8\n"
     ]
    }
   ],
   "source": [
    "evens = link(2, link(4, link(6, link(8, empty))))\n",
    "odds = link(1, link(3, empty))\n",
    "print_link(interleave(evens, odds))"
   ]
  },
  {
   "cell_type": "code",
   "execution_count": 70,
   "metadata": {
    "collapsed": true
   },
   "outputs": [],
   "source": [
    "def tree(root, branches=[]):\n",
    "    for branch in branches:\n",
    "        assert is_tree(branch), 'branches must be trees'\n",
    "    return [root] + list(branches)\n",
    "\n",
    "def root(tree):\n",
    "    return tree[0]\n",
    "\n",
    "def branches(tree):\n",
    "    return tree[1:]\n",
    "\n",
    "def is_tree(tree):\n",
    "    if type(tree) != list or len(tree) < 1:\n",
    "        return False\n",
    "    for branch in branches(tree):\n",
    "        if not is_tree(branch):\n",
    "            return False\n",
    "    return True\n",
    "\n",
    "def is_leaf(tree):\n",
    "    return not branches(tree)\n",
    "\n",
    "def print_tree(t, indent=0):\n",
    "    \"\"\"Print a representation of this tree in which each node is\n",
    "    indented by two spaces times its depth from the entry.\n",
    "\n",
    "    >>> print_tree(tree(1))\n",
    "    1\n",
    "    >>> print_tree(tree(1, [tree(2)]))\n",
    "    1\n",
    "      2\n",
    "    >>> numbers = tree(1, [tree(2), tree(3, [tree(4), tree(5)]), tree(6, [tree(7)])])\n",
    "    >>> print_tree(numbers)\n",
    "    1\n",
    "      2\n",
    "      3\n",
    "        4\n",
    "        5\n",
    "      6\n",
    "        7\n",
    "    \"\"\"\n",
    "    print('  ' * indent + str(root(t)))\n",
    "    for b in branches(t):\n",
    "        print_tree(b, indent + 1)\n",
    "\n",
    "numbers = tree(1, [tree(2), tree(3, [tree(4), tree(5)]), tree(6, [tree(7)])])"
   ]
  },
  {
   "cell_type": "code",
   "execution_count": 82,
   "metadata": {
    "collapsed": false
   },
   "outputs": [
    {
     "data": {
      "text/plain": [
       "[[2], [3, [4], [5]], [6, [7]]]"
      ]
     },
     "execution_count": 82,
     "metadata": {},
     "output_type": "execute_result"
    }
   ],
   "source": [
    "branches(numbers)"
   ]
  },
  {
   "cell_type": "code",
   "execution_count": 83,
   "metadata": {
    "collapsed": false
   },
   "outputs": [
    {
     "data": {
      "text/plain": [
       "[2]"
      ]
     },
     "execution_count": 83,
     "metadata": {},
     "output_type": "execute_result"
    }
   ],
   "source": [
    "branches(numbers)[0]"
   ]
  },
  {
   "cell_type": "code",
   "execution_count": 84,
   "metadata": {
    "collapsed": false
   },
   "outputs": [
    {
     "data": {
      "text/plain": [
       "[3, [4], [5]]"
      ]
     },
     "execution_count": 84,
     "metadata": {},
     "output_type": "execute_result"
    }
   ],
   "source": [
    "branches(numbers)[1]"
   ]
  },
  {
   "cell_type": "code",
   "execution_count": 85,
   "metadata": {
    "collapsed": false
   },
   "outputs": [
    {
     "data": {
      "text/plain": [
       "[6, [7]]"
      ]
     },
     "execution_count": 85,
     "metadata": {},
     "output_type": "execute_result"
    }
   ],
   "source": [
    "branches(numbers)[2]"
   ]
  },
  {
   "cell_type": "code",
   "execution_count": 103,
   "metadata": {
    "collapsed": false
   },
   "outputs": [
    {
     "data": {
      "text/plain": [
       "True"
      ]
     },
     "execution_count": 103,
     "metadata": {},
     "output_type": "execute_result"
    }
   ],
   "source": [
    "b = map(lambda x: branches(x), branches(numbers))\n",
    "#min(map(lambda x: is_leaf(x), b))\n",
    "b1 = map(lambda x: branches(x), b)\n",
    "min(map(lambda x: is_leaf(x), b1))\n"
   ]
  },
  {
   "cell_type": "code",
   "execution_count": 133,
   "metadata": {
    "collapsed": false
   },
   "outputs": [
    {
     "data": {
      "text/plain": [
       "0"
      ]
     },
     "execution_count": 133,
     "metadata": {},
     "output_type": "execute_result"
    }
   ],
   "source": [
    "len(branches(branches(numbers)[0]))"
   ]
  },
  {
   "cell_type": "code",
   "execution_count": 145,
   "metadata": {
    "collapsed": false
   },
   "outputs": [],
   "source": [
    "def height(t):\n",
    "    \"\"\"Return the depth of the deepest node in the tree.\n",
    "\n",
    "    >>> height(tree(1))\n",
    "    0\n",
    "    >>> height(tree(1, [tree(2), tree(3)]))\n",
    "    1\n",
    "    >>> print_tree(numbers)\n",
    "    1\n",
    "      2\n",
    "      3\n",
    "        4\n",
    "        5\n",
    "      6\n",
    "        7\n",
    "    >>> height(numbers)\n",
    "    2\n",
    "    \"\"\"\n",
    "    \"*** YOUR CODE HERE ***\"\n",
    "    ct = 0\n",
    "    ps = False\n",
    "    while ps == False: \n",
    "        #print(branches(t))\n",
    "        t = map(lambda x: branches(x), branches(t))\n",
    "        lf = map(lambda x: is_leaf(x), t)\n",
    "        if len(lf) > 0:\n",
    "            ps = min(map(lambda x: is_leaf(x), t))\n",
    "            ct += 1\n",
    "        else: \n",
    "            ps = True\n",
    "    return ct"
   ]
  },
  {
   "cell_type": "code",
   "execution_count": 211,
   "metadata": {
    "collapsed": false
   },
   "outputs": [],
   "source": [
    "t1 = tree(1, [tree(2), tree(3)])\n",
    "vals = [4,5]\n",
    "new_branch = []\n",
    "for x in vals: \n",
    "    new_branch.append(tree(x))\n"
   ]
  },
  {
   "cell_type": "code",
   "execution_count": 288,
   "metadata": {
    "collapsed": false
   },
   "outputs": [],
   "source": [
    "def sprout_leaves(t, vals):\n",
    "    \"\"\"Sprout new leaves containing the data in vals at each leaf in\n",
    "    the original tree t and return the resulting tree.\n",
    "\n",
    "    >>> t1 = tree(1, [tree(2), tree(3)])\n",
    "    >>> print_tree(t1)\n",
    "    1\n",
    "      2\n",
    "      3\n",
    "    >>> new1 = sprout_leaves(t1, [4, 5])\n",
    "    >>> print_tree(new1)\n",
    "    1\n",
    "      2\n",
    "        4\n",
    "        5\n",
    "      3\n",
    "        4\n",
    "        5\n",
    "\n",
    "    >>> t2 = tree(1, [tree(2, [tree(3)])])\n",
    "    >>> print_tree(t2)\n",
    "    1\n",
    "      2\n",
    "        3\n",
    "    >>> new2 = sprout_leaves(t2, [6, 1, 2])\n",
    "    >>> print_tree(new2)\n",
    "    1\n",
    "      2\n",
    "        3\n",
    "          6\n",
    "          1\n",
    "          2\n",
    "    \"\"\"\n",
    "    \"*** YOUR CODE HERE ***\"\n",
    "    new_branch = []\n",
    "    for x in vals: \n",
    "        new_branch.append(tree(x))\n",
    "    #recursive\n",
    "    #print(new_branch)\n",
    "    n = root(t)\n",
    "    br = []\n",
    "    if is_leaf(t):\n",
    "        #print_tree(tree(root(t), new_branch))\n",
    "        return(tree(root(t), new_branch))\n",
    "    else:\n",
    "        for x in branches(t):\n",
    "            br.append(sprout_leaves(x, vals))\n",
    "    return tree(n, br)"
   ]
  },
  {
   "cell_type": "code",
   "execution_count": 290,
   "metadata": {
    "collapsed": false
   },
   "outputs": [
    {
     "name": "stdout",
     "output_type": "stream",
     "text": [
      "1\n",
      "  2\n",
      "    3\n",
      "      6\n",
      "      1\n",
      "      2\n"
     ]
    }
   ],
   "source": [
    "t2 = tree(1, [tree(2, [tree(3)])])\n",
    "new2 = sprout_leaves(t2, [6, 1, 2])\n",
    "print_tree(new2)"
   ]
  },
  {
   "cell_type": "code",
   "execution_count": 271,
   "metadata": {
    "collapsed": false
   },
   "outputs": [
    {
     "data": {
      "text/plain": [
       "[True, False, False]"
      ]
     },
     "execution_count": 271,
     "metadata": {},
     "output_type": "execute_result"
    }
   ],
   "source": [
    "map(lambda x: is_leaf(x), branches(numbers))"
   ]
  },
  {
   "cell_type": "code",
   "execution_count": 219,
   "metadata": {
    "collapsed": false
   },
   "outputs": [
    {
     "data": {
      "text/plain": [
       "[[2], [3, [4], [5]], [6, [7]]]"
      ]
     },
     "execution_count": 219,
     "metadata": {},
     "output_type": "execute_result"
    }
   ],
   "source": [
    "num = numbers\n",
    "branches(num)"
   ]
  },
  {
   "cell_type": "code",
   "execution_count": 223,
   "metadata": {
    "collapsed": false
   },
   "outputs": [
    {
     "ename": "TypeError",
     "evalue": "checky() takes exactly 2 arguments (1 given)",
     "output_type": "error",
     "traceback": [
      "\u001b[0;31m---------------------------------------------------------------------------\u001b[0m",
      "\u001b[0;31mTypeError\u001b[0m                                 Traceback (most recent call last)",
      "\u001b[0;32m<ipython-input-223-67e9c35b7803>\u001b[0m in \u001b[0;36m<module>\u001b[0;34m()\u001b[0m\n\u001b[1;32m      3\u001b[0m         \u001b[0;32mprint\u001b[0m\u001b[0;34m(\u001b[0m\u001b[0mx\u001b[0m\u001b[0;34m)\u001b[0m\u001b[0;34m\u001b[0m\u001b[0m\n\u001b[1;32m      4\u001b[0m         \u001b[0;32mreturn\u001b[0m \u001b[0mi\u001b[0m\u001b[0;34m\u001b[0m\u001b[0m\n\u001b[0;32m----> 5\u001b[0;31m \u001b[0mmap\u001b[0m\u001b[0;34m(\u001b[0m\u001b[0mchecky\u001b[0m\u001b[0;34m,\u001b[0m \u001b[0mbranches\u001b[0m\u001b[0;34m(\u001b[0m\u001b[0mnum\u001b[0m\u001b[0;34m)\u001b[0m\u001b[0;34m)\u001b[0m\u001b[0;34m\u001b[0m\u001b[0m\n\u001b[0m",
      "\u001b[0;31mTypeError\u001b[0m: checky() takes exactly 2 arguments (1 given)"
     ]
    }
   ],
   "source": [
    "def checky(x):\n",
    "    if is_leaf(x):\n",
    "        print(x)\n",
    "map(checky, branches(num)) "
   ]
  },
  {
   "cell_type": "code",
   "execution_count": 198,
   "metadata": {
    "collapsed": false
   },
   "outputs": [
    {
     "name": "stdout",
     "output_type": "stream",
     "text": [
      "[[4], [5]]\n"
     ]
    }
   ],
   "source": [
    "for b in branches(num):\n",
    "    if is_leaf(b):\n",
    "        print branches(tree(b, [tree(4), tree(5)]))"
   ]
  },
  {
   "cell_type": "code",
   "execution_count": 194,
   "metadata": {
    "collapsed": false
   },
   "outputs": [
    {
     "data": {
      "text/plain": [
       "[1, [2], [3, [4], [5]], [6, [7]]]"
      ]
     },
     "execution_count": 194,
     "metadata": {},
     "output_type": "execute_result"
    }
   ],
   "source": [
    "num"
   ]
  },
  {
   "cell_type": "code",
   "execution_count": 210,
   "metadata": {
    "collapsed": false
   },
   "outputs": [
    {
     "data": {
      "text/plain": [
       "2"
      ]
     },
     "execution_count": 210,
     "metadata": {},
     "output_type": "execute_result"
    }
   ],
   "source": [
    "root(num[1])"
   ]
  },
  {
   "cell_type": "code",
   "execution_count": null,
   "metadata": {
    "collapsed": true
   },
   "outputs": [],
   "source": [
    "for n in num: \n",
    "    if is_leaf(n):\n",
    "        n "
   ]
  }
 ],
 "metadata": {
  "anaconda-cloud": {},
  "kernelspec": {
   "display_name": "Python 2",
   "language": "python",
   "name": "python2"
  },
  "language_info": {
   "codemirror_mode": {
    "name": "ipython",
    "version": 2
   },
   "file_extension": ".py",
   "mimetype": "text/x-python",
   "name": "python",
   "nbconvert_exporter": "python",
   "pygments_lexer": "ipython2",
   "version": "2.7.10"
  }
 },
 "nbformat": 4,
 "nbformat_minor": 0
}
