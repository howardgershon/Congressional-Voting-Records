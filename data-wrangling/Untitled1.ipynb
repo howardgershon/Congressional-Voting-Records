{
 "cells": [
  {
   "cell_type": "code",
   "execution_count": 2,
   "metadata": {
    "collapsed": true
   },
   "outputs": [],
   "source": [
    "from math import sqrt\n",
    "from random import sample\n",
    " \n",
    "# Rename the built-in zip (http://docs.python.org/3/library/functions.html#zip)\n",
    "_zip = zip"
   ]
  },
  {
   "cell_type": "code",
   "execution_count": 3,
   "metadata": {
    "collapsed": true
   },
   "outputs": [],
   "source": [
    "def zip(*sequences):\n",
    "    \"\"\"Returns a list of lists, where the i-th list contains the i-th\n",
    "    element from each of the argument sequences.\n",
    " \n",
    "    >>> zip(range(0, 3), range(3, 6))\n",
    "    [[0, 3], [1, 4], [2, 5]]\n",
    "    >>> for a, b in zip([1, 2, 3], [4, 5, 6]):\n",
    "    ...     print(a, b)\n",
    "    1 4\n",
    "    2 5\n",
    "    3 6\n",
    "    >>> for triple in zip(['a', 'b', 'c'], [1, 2, 3], ['do', 're', 'mi']):\n",
    "    ...     print(triple)\n",
    "    ['a', 1, 'do']\n",
    "    ['b', 2, 're']\n",
    "    ['c', 3, 'mi']\n",
    "    \"\"\"\n",
    "    return list(map(list, _zip(*sequences)))"
   ]
  },
  {
   "cell_type": "code",
   "execution_count": 4,
   "metadata": {
    "collapsed": false
   },
   "outputs": [
    {
     "data": {
      "text/plain": [
       "[[1, 2], [2, 3], [3, 4]]"
      ]
     },
     "execution_count": 4,
     "metadata": {},
     "output_type": "execute_result"
    }
   ],
   "source": [
    "zip([1,2,3], [2,3,4])"
   ]
  },
  {
   "cell_type": "code",
   "execution_count": 5,
   "metadata": {
    "collapsed": false
   },
   "outputs": [],
   "source": [
    "def enumerate(s, start=0):\n",
    "    \"\"\"Returns a list of lists, where the i-th list contains i+start and the\n",
    "    i-th element of s.\n",
    " \n",
    "    >>> enumerate([6, 1, 'a'])\n",
    "    [[0, 6], [1, 1], [2, 'a']]\n",
    "    >>> enumerate('five', 5)\n",
    "    [[5, 'f'], [6, 'i'], [7, 'v'], [8, 'e']]\n",
    "    \"\"\"\n",
    "    # BEGIN Question 0\n",
    "    return zip(range(start,start+len(s)), s)\n",
    "    # END Question 0"
   ]
  },
  {
   "cell_type": "code",
   "execution_count": 6,
   "metadata": {
    "collapsed": false
   },
   "outputs": [
    {
     "data": {
      "text/plain": [
       "[[0, 6], [1, 1], [2, 'a']]"
      ]
     },
     "execution_count": 6,
     "metadata": {},
     "output_type": "execute_result"
    }
   ],
   "source": [
    "enumerate([6,1,'a'])"
   ]
  },
  {
   "cell_type": "code",
   "execution_count": 7,
   "metadata": {
    "collapsed": false
   },
   "outputs": [
    {
     "data": {
      "text/plain": [
       "[[5, 'f'], [6, 'i'], [7, 'v'], [8, 'e']]"
      ]
     },
     "execution_count": 7,
     "metadata": {},
     "output_type": "execute_result"
    }
   ],
   "source": [
    "enumerate('five', 5)"
   ]
  },
  {
   "cell_type": "code",
   "execution_count": 8,
   "metadata": {
    "collapsed": false
   },
   "outputs": [
    {
     "data": {
      "text/plain": [
       "2"
      ]
     },
     "execution_count": 8,
     "metadata": {},
     "output_type": "execute_result"
    }
   ],
   "source": [
    "d = {1:'z', 2:'w'}\n",
    "min(d, key=lambda x:d[x])"
   ]
  },
  {
   "cell_type": "code",
   "execution_count": 9,
   "metadata": {
    "collapsed": true
   },
   "outputs": [],
   "source": [
    "def map_and_filter(s, map_fn, filter_fn):\n",
    "    \"\"\"Return a new list containing the result of calling map_fn on each\n",
    "    element of sequence s for which filter_fn returns a true value.\n",
    " \n",
    "    >>> square = lambda x: x * x\n",
    "    >>> is_odd = lambda x: x % 2 == 1\n",
    "    >>> map_and_filter([1, 2, 3, 4, 5], square, is_odd)\n",
    "    [1, 9, 25]\n",
    "    \"\"\"\n",
    "    # BEGIN Question 0\n",
    "    \"*** REPLACE THIS LINE ***\"\n",
    "    return [map_fn for x in s if filter_fn]\n",
    "    # END Question 0"
   ]
  },
  {
   "cell_type": "code",
   "execution_count": 1,
   "metadata": {
    "collapsed": false
   },
   "outputs": [
    {
     "ename": "NameError",
     "evalue": "name 'map_and_filter' is not defined",
     "output_type": "error",
     "traceback": [
      "\u001b[0;31m---------------------------------------------------------------------------\u001b[0m",
      "\u001b[0;31mNameError\u001b[0m                                 Traceback (most recent call last)",
      "\u001b[0;32m<ipython-input-1-f404eb440876>\u001b[0m in \u001b[0;36m<module>\u001b[0;34m()\u001b[0m\n\u001b[1;32m      1\u001b[0m \u001b[0msquare\u001b[0m \u001b[0;34m=\u001b[0m \u001b[0;32mlambda\u001b[0m \u001b[0mx\u001b[0m\u001b[0;34m:\u001b[0m \u001b[0mx\u001b[0m \u001b[0;34m*\u001b[0m \u001b[0mx\u001b[0m\u001b[0;34m\u001b[0m\u001b[0m\n\u001b[1;32m      2\u001b[0m \u001b[0mis_odd\u001b[0m \u001b[0;34m=\u001b[0m \u001b[0;32mlambda\u001b[0m \u001b[0mx\u001b[0m\u001b[0;34m:\u001b[0m \u001b[0mx\u001b[0m \u001b[0;34m%\u001b[0m \u001b[0;36m2\u001b[0m \u001b[0;34m==\u001b[0m \u001b[0;36m1\u001b[0m\u001b[0;34m\u001b[0m\u001b[0m\n\u001b[0;32m----> 3\u001b[0;31m \u001b[0mlist\u001b[0m\u001b[0;34m(\u001b[0m\u001b[0mmap_and_filter\u001b[0m\u001b[0;34m(\u001b[0m\u001b[0;34m[\u001b[0m\u001b[0;36m1\u001b[0m\u001b[0;34m,\u001b[0m\u001b[0;36m2\u001b[0m\u001b[0;34m,\u001b[0m\u001b[0;36m3\u001b[0m\u001b[0;34m,\u001b[0m\u001b[0;36m4\u001b[0m\u001b[0;34m,\u001b[0m\u001b[0;36m5\u001b[0m\u001b[0;34m]\u001b[0m\u001b[0;34m,\u001b[0m \u001b[0msquare\u001b[0m\u001b[0;34m,\u001b[0m \u001b[0mis_odd\u001b[0m\u001b[0;34m)\u001b[0m\u001b[0;34m)\u001b[0m\u001b[0;34m\u001b[0m\u001b[0m\n\u001b[0m",
      "\u001b[0;31mNameError\u001b[0m: name 'map_and_filter' is not defined"
     ]
    }
   ],
   "source": [
    "square = lambda x: x * x\n",
    "is_odd = lambda x: x % 2 == 1\n",
    "list(map_and_filter([1,2,3,4,5], square, is_odd))"
   ]
  },
  {
   "cell_type": "code",
   "execution_count": 13,
   "metadata": {
    "collapsed": false
   },
   "outputs": [],
   "source": [
    "d['tacos'] = 'yes please'"
   ]
  },
  {
   "cell_type": "code",
   "execution_count": 14,
   "metadata": {
    "collapsed": false
   },
   "outputs": [
    {
     "data": {
      "text/plain": [
       "{1: 'z', 2: 'w', 'tacos': 'yes please'}"
      ]
     },
     "execution_count": 14,
     "metadata": {},
     "output_type": "execute_result"
    }
   ],
   "source": [
    "d"
   ]
  },
  {
   "cell_type": "code",
   "execution_count": null,
   "metadata": {
    "collapsed": true
   },
   "outputs": [],
   "source": []
  }
 ],
 "metadata": {
  "kernelspec": {
   "display_name": "Python 2",
   "language": "python",
   "name": "python2"
  },
  "language_info": {
   "codemirror_mode": {
    "name": "ipython",
    "version": 2
   },
   "file_extension": ".py",
   "mimetype": "text/x-python",
   "name": "python",
   "nbconvert_exporter": "python",
   "pygments_lexer": "ipython2",
   "version": "2.7.10"
  }
 },
 "nbformat": 4,
 "nbformat_minor": 0
}
